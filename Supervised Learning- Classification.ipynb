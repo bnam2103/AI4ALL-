{
 "cells": [
  {
   "cell_type": "code",
   "execution_count": 28,
   "id": "pursuant-andrew",
   "metadata": {},
   "outputs": [],
   "source": [
    "# Pandas\n",
    "import pandas as pd\n",
    "\n",
    "# Classifiers\n",
    "from sklearn.linear_model import LogisticRegression\n",
    "from sklearn.ensemble import RandomForestClassifier\n",
    "from sklearn.naive_bayes import GaussianNB\n",
    "\n",
    "# Data processing\n",
    "from sklearn.model_selection import train_test_split\n",
    "from sklearn.model_selection import StratifiedKFold\n",
    "from sklearn.utils.class_weight import compute_sample_weight\n",
    "\n",
    "# Feature selection\n",
    "from sklearn.feature_selection import SelectKBest, chi2\n",
    "\n",
    "# Encoders and model evaluation\n",
    "from sklearn.preprocessing import OrdinalEncoder, LabelEncoder\n",
    "from sklearn.metrics import confusion_matrix\n",
    "from sklearn.metrics import classification_report\n",
    "import matplotlib.pyplot as plt\n",
    "from sklearn.model_selection import cross_val_predict"
   ]
  },
  {
   "cell_type": "code",
   "execution_count": 3,
   "id": "prerequisite-scroll",
   "metadata": {},
   "outputs": [],
   "source": [
    "crimes = pd.read_csv(\"Chicago_Crimes_2008-2011.csv\")"
   ]
  },
  {
   "cell_type": "code",
   "execution_count": 4,
   "id": "effective-roberts",
   "metadata": {},
   "outputs": [
    {
     "name": "stdout",
     "output_type": "stream",
     "text": [
      "638191\n"
     ]
    }
   ],
   "source": [
    "print(len(crimes))"
   ]
  },
  {
   "cell_type": "code",
   "execution_count": 5,
   "id": "vital-disaster",
   "metadata": {},
   "outputs": [
    {
     "name": "stdout",
     "output_type": "stream",
     "text": [
      "637795\n"
     ]
    }
   ],
   "source": [
    "# Handle Missing Data\n",
    "crimes = crimes.dropna()\n",
    "print(len(crimes))"
   ]
  },
  {
   "cell_type": "code",
   "execution_count": 6,
   "id": "expired-honey",
   "metadata": {},
   "outputs": [
    {
     "data": {
      "text/plain": [
       "False    501277\n",
       "True     136518\n",
       "Name: Domestic, dtype: int64"
      ]
     },
     "execution_count": 6,
     "metadata": {},
     "output_type": "execute_result"
    }
   ],
   "source": [
    "crimes ['Domestic'].value_counts()"
   ]
  },
  {
   "cell_type": "code",
   "execution_count": 8,
   "id": "international-pulse",
   "metadata": {},
   "outputs": [
    {
     "data": {
      "text/plain": [
       "6      120802\n",
       "08B    119918\n",
       "14      71244\n",
       "26      69546\n",
       "18      63940\n",
       "5       38964\n",
       "08A     29808\n",
       "7       25671\n",
       "3       22661\n",
       "04B     17370\n",
       "11      16705\n",
       "04A      9868\n",
       "15       5975\n",
       "16       5307\n",
       "24       4934\n",
       "10       3044\n",
       "20       3018\n",
       "2        2595\n",
       "17       2252\n",
       "19       1507\n",
       "22       1177\n",
       "9         871\n",
       "01A       336\n",
       "13        177\n",
       "12        105\n",
       "Name: FBI Code, dtype: int64"
      ]
     },
     "execution_count": 8,
     "metadata": {},
     "output_type": "execute_result"
    }
   ],
   "source": [
    "crimes['Location Description'].value_counts()\n"
   ]
  },
  {
   "cell_type": "code",
   "execution_count": 9,
   "id": "moderate-faith",
   "metadata": {},
   "outputs": [
    {
     "data": {
      "text/plain": [
       "BATTERY                             137288\n",
       "THEFT                               120802\n",
       "CRIMINAL DAMAGE                      71244\n",
       "NARCOTICS                            68174\n",
       "OTHER OFFENSE                        45589\n",
       "ASSAULT                              39342\n",
       "BURGLARY                             38964\n",
       "MOTOR VEHICLE THEFT                  25671\n",
       "ROBBERY                              22661\n",
       "DECEPTIVE PRACTICE                   20031\n",
       "CRIMINAL TRESPASS                    15925\n",
       "WEAPONS VIOLATION                     5975\n",
       "OFFENSE INVOLVING CHILDREN            5396\n",
       "PROSTITUTION                          5305\n",
       "PUBLIC PEACE VIOLATION                5111\n",
       "CRIM SEXUAL ASSAULT                   2232\n",
       "SEX OFFENSE                           1899\n",
       "GAMBLING                              1496\n",
       "LIQUOR LAW VIOLATION                  1177\n",
       "INTERFERENCE WITH PUBLIC OFFICER       970\n",
       "ARSON                                  883\n",
       "KIDNAPPING                             565\n",
       "INTIMIDATION                           363\n",
       "HOMICIDE                               336\n",
       "STALKING                               334\n",
       "OBSCENITY                               38\n",
       "PUBLIC INDECENCY                        12\n",
       "OTHER NARCOTIC VIOLATION                11\n",
       "NON-CRIMINAL                             1\n",
       "Name: Primary Type, dtype: int64"
      ]
     },
     "execution_count": 9,
     "metadata": {},
     "output_type": "execute_result"
    }
   ],
   "source": [
    "crimes['Primary Type'].value_counts()"
   ]
  },
  {
   "cell_type": "code",
   "execution_count": 10,
   "id": "inclusive-sucking",
   "metadata": {},
   "outputs": [
    {
     "data": {
      "text/plain": [
       "6      120802\n",
       "08B    119918\n",
       "14      71244\n",
       "26      69546\n",
       "18      63940\n",
       "5       38964\n",
       "08A     29808\n",
       "7       25671\n",
       "3       22661\n",
       "04B     17370\n",
       "11      16705\n",
       "04A      9868\n",
       "15       5975\n",
       "16       5307\n",
       "24       4934\n",
       "10       3044\n",
       "20       3018\n",
       "2        2595\n",
       "17       2252\n",
       "19       1507\n",
       "22       1177\n",
       "9         871\n",
       "01A       336\n",
       "13        177\n",
       "12        105\n",
       "Name: FBI Code, dtype: int64"
      ]
     },
     "execution_count": 10,
     "metadata": {},
     "output_type": "execute_result"
    }
   ],
   "source": [
    "crimes['FBI Code'].value_counts()"
   ]
  },
  {
   "cell_type": "code",
   "execution_count": 13,
   "id": "sophisticated-hearts",
   "metadata": {},
   "outputs": [
    {
     "name": "stdout",
     "output_type": "stream",
     "text": [
      "637762\n"
     ]
    }
   ],
   "source": [
    "ld_vcts = crimes['Location Description'].value_counts()\n",
    "to_remove = ld_vcts[ld_vcts < 5].index\n",
    "crimes = crimes[~crimes['Location Description'].isin(to_remove)]\n",
    "print(len(crimes))"
   ]
  },
  {
   "cell_type": "code",
   "execution_count": 14,
   "id": "dominican-banks",
   "metadata": {},
   "outputs": [
    {
     "name": "stdout",
     "output_type": "stream",
     "text": [
      "637761\n"
     ]
    }
   ],
   "source": [
    "ld_vcts = crimes['Primary Type'].value_counts()\n",
    "to_remove = ld_vcts[ld_vcts < 5].index\n",
    "crimes = crimes[~crimes['Primary Type'].isin(to_remove)]\n",
    "print(len(crimes))"
   ]
  },
  {
   "cell_type": "code",
   "execution_count": 16,
   "id": "interpreted-restoration",
   "metadata": {},
   "outputs": [
    {
     "name": "stdout",
     "output_type": "stream",
     "text": [
      "637761\n"
     ]
    }
   ],
   "source": [
    "ld_vcts = crimes['FBI Code'].value_counts()\n",
    "to_remove = ld_vcts[ld_vcts < 5].index\n",
    "crimes = crimes[~crimes['FBI Code'].isin(to_remove)]\n",
    "print(len(crimes))"
   ]
  },
  {
   "cell_type": "code",
   "execution_count": 17,
   "id": "boring-reading",
   "metadata": {},
   "outputs": [
    {
     "name": "stdout",
     "output_type": "stream",
     "text": [
      "  Primary Type          Description Location Description  Arrest  Beat  \\\n",
      "0     HOMICIDE  FIRST DEGREE MURDER                ALLEY    True   323   \n",
      "1     HOMICIDE  FIRST DEGREE MURDER               STREET    True  1533   \n",
      "2     HOMICIDE  FIRST DEGREE MURDER        PARK PROPERTY   False   831   \n",
      "3     HOMICIDE  FIRST DEGREE MURDER           RESTAURANT   False  1524   \n",
      "4     HOMICIDE  FIRST DEGREE MURDER               STREET    True  1034   \n",
      "\n",
      "   District  Ward  Community Area FBI Code  \n",
      "0       3.0   6.0            69.0      01A  \n",
      "1      15.0  24.0            25.0      01A  \n",
      "2       8.0  18.0            66.0      01A  \n",
      "3      15.0  37.0            25.0      01A  \n",
      "4      10.0  25.0            31.0      01A  \n",
      "0         False\n",
      "1         False\n",
      "2         False\n",
      "3         False\n",
      "4         False\n",
      "          ...  \n",
      "638186     True\n",
      "638187     True\n",
      "638188     True\n",
      "638189     True\n",
      "638190     True\n",
      "Name: Domestic, Length: 637761, dtype: bool\n"
     ]
    }
   ],
   "source": [
    "X = crimes.drop(['Domestic'], axis =1)\n",
    "y = crimes['Domestic']\n",
    "print(X.head())\n",
    "print(y)"
   ]
  },
  {
   "cell_type": "code",
   "execution_count": 18,
   "id": "provincial-river",
   "metadata": {},
   "outputs": [],
   "source": [
    "# encode the data\n",
    "oe = OrdinalEncoder()\n",
    "oe.fit(X)\n",
    "X_enc = oe.transform(X)\n",
    "\n",
    "le = LabelEncoder()\n",
    "le.fit(y)\n",
    "y_enc = le.transform(y)\n"
   ]
  },
  {
   "cell_type": "code",
   "execution_count": 19,
   "id": "supposed-anniversary",
   "metadata": {},
   "outputs": [
    {
     "name": "stdout",
     "output_type": "stream",
     "text": [
      "[0 1 2 4 8]\n",
      "         Primary Type                  Description     Location Description  \\\n",
      "0            HOMICIDE          FIRST DEGREE MURDER                    ALLEY   \n",
      "1            HOMICIDE          FIRST DEGREE MURDER                   STREET   \n",
      "2            HOMICIDE          FIRST DEGREE MURDER            PARK PROPERTY   \n",
      "3            HOMICIDE          FIRST DEGREE MURDER               RESTAURANT   \n",
      "4            HOMICIDE          FIRST DEGREE MURDER                   STREET   \n",
      "...               ...                          ...                      ...   \n",
      "638186        BATTERY      DOMESTIC BATTERY SIMPLE                APARTMENT   \n",
      "638187        ASSAULT          AGGRAVATED: HANDGUN                    ALLEY   \n",
      "638188        BATTERY      DOMESTIC BATTERY SIMPLE  RESIDENCE PORCH/HALLWAY   \n",
      "638189  OTHER OFFENSE  VIOLATE ORDER OF PROTECTION   VEHICLE NON-COMMERCIAL   \n",
      "638190        BATTERY      DOMESTIC BATTERY SIMPLE                APARTMENT   \n",
      "\n",
      "        Beat FBI Code  \n",
      "0        323      01A  \n",
      "1       1533      01A  \n",
      "2        831      01A  \n",
      "3       1524      01A  \n",
      "4       1034      01A  \n",
      "...      ...      ...  \n",
      "638186   234      08B  \n",
      "638187   633      04A  \n",
      "638188   624      08B  \n",
      "638189   714       26  \n",
      "638190   421      08B  \n",
      "\n",
      "[637761 rows x 5 columns]\n"
     ]
    }
   ],
   "source": [
    "# Feature Selection\n",
    "selector = SelectKBest (chi2, k=5)\n",
    "newX = selector.fit_transform(X_enc, y_enc)\n",
    "\n",
    "cols = selector.get_support(indices = True)\n",
    "print(cols)\n",
    "print(X.iloc[:,cols])"
   ]
  },
  {
   "cell_type": "code",
   "execution_count": 21,
   "id": "concrete-advocate",
   "metadata": {},
   "outputs": [],
   "source": [
    "X_train, X_test, y_train, y_test = train_test_split(newX, y_enc, test_size = 0.3)"
   ]
  },
  {
   "cell_type": "code",
   "execution_count": 23,
   "id": "ranking-finish",
   "metadata": {},
   "outputs": [
    {
     "data": {
      "text/plain": [
       "LogisticRegression(class_weight='balanced')"
      ]
     },
     "execution_count": 23,
     "metadata": {},
     "output_type": "execute_result"
    }
   ],
   "source": [
    "# Logistic Regression\n",
    "logreg = LogisticRegression(solver = 'lbfgs', class_weight = 'balanced')\n",
    "logreg.fit(X_train, y_train)"
   ]
  },
  {
   "cell_type": "code",
   "execution_count": 25,
   "id": "careful-adapter",
   "metadata": {},
   "outputs": [
    {
     "name": "stdout",
     "output_type": "stream",
     "text": [
      "[[112207  38427]\n",
      " [ 10929  29766]]\n",
      "              precision    recall  f1-score   support\n",
      "\n",
      "Not Domestic       0.91      0.74      0.82    150634\n",
      "    Domestic       0.44      0.73      0.55     40695\n",
      "\n",
      "    accuracy                           0.74    191329\n",
      "   macro avg       0.67      0.74      0.68    191329\n",
      "weighted avg       0.81      0.74      0.76    191329\n",
      "\n"
     ]
    }
   ],
   "source": [
    "y_pred_log = logreg.predict(X_test)\n",
    "print(confusion_matrix(y_test, y_pred_log))\n",
    "print(classification_report(y_test, y_pred_log, target_names =['Not Domestic', 'Domestic']))\n"
   ]
  },
  {
   "cell_type": "code",
   "execution_count": null,
   "id": "dynamic-agreement",
   "metadata": {},
   "outputs": [],
   "source": [
    "scv = StratifiedKFold(n_splits = 5)\n",
    "crosspred = cross_val_predict(logreg, newX, y_enc, cv= scv)\n",
    "print(confustion_matrix(y_test,crosspred))\n",
    "print(classification_report(y_test,cross_pred))"
   ]
  },
  {
   "cell_type": "code",
   "execution_count": 30,
   "id": "copyrighted-alaska",
   "metadata": {},
   "outputs": [],
   "source": [
    "#Random Forest\n",
    "randfor = RandomForestClassifier(n_estimators=10, class_weight= 'balanced', verbose= True)\n"
   ]
  },
  {
   "cell_type": "code",
   "execution_count": 32,
   "id": "existing-lebanon",
   "metadata": {},
   "outputs": [
    {
     "name": "stderr",
     "output_type": "stream",
     "text": [
      "[Parallel(n_jobs=1)]: Using backend SequentialBackend with 1 concurrent workers.\n",
      "[Parallel(n_jobs=1)]: Done  10 out of  10 | elapsed:    5.9s finished\n"
     ]
    },
    {
     "data": {
      "text/plain": [
       "RandomForestClassifier(class_weight='balanced', n_estimators=10, verbose=True)"
      ]
     },
     "execution_count": 32,
     "metadata": {},
     "output_type": "execute_result"
    }
   ],
   "source": [
    "randfor.fit(X_train, y_train)"
   ]
  },
  {
   "cell_type": "code",
   "execution_count": 33,
   "id": "color-blast",
   "metadata": {},
   "outputs": [
    {
     "name": "stderr",
     "output_type": "stream",
     "text": [
      "[Parallel(n_jobs=1)]: Using backend SequentialBackend with 1 concurrent workers.\n",
      "[Parallel(n_jobs=1)]: Done  10 out of  10 | elapsed:    0.6s finished\n"
     ]
    }
   ],
   "source": [
    "y_pred_rf = randfor.predict(X_test)"
   ]
  },
  {
   "cell_type": "code",
   "execution_count": 34,
   "id": "demanding-stewart",
   "metadata": {},
   "outputs": [
    {
     "name": "stdout",
     "output_type": "stream",
     "text": [
      "[[134839  15795]\n",
      " [  5798  34897]]\n",
      "              precision    recall  f1-score   support\n",
      "\n",
      "Not Domestic       0.96      0.90      0.93    150634\n",
      "    Domestic       0.69      0.86      0.76     40695\n",
      "\n",
      "    accuracy                           0.89    191329\n",
      "   macro avg       0.82      0.88      0.84    191329\n",
      "weighted avg       0.90      0.89      0.89    191329\n",
      "\n"
     ]
    }
   ],
   "source": [
    "print(confusion_matrix(y_test, y_pred_rf))\n",
    "print(classification_report(y_test, y_pred_rf, target_names =['Not Domestic', 'Domestic']))\n"
   ]
  },
  {
   "cell_type": "code",
   "execution_count": 35,
   "id": "appropriate-optimum",
   "metadata": {},
   "outputs": [
    {
     "data": {
      "text/plain": [
       "GaussianNB()"
      ]
     },
     "execution_count": 35,
     "metadata": {},
     "output_type": "execute_result"
    }
   ],
   "source": [
    "nb = GaussianNB()\n",
    "sweight = compute_sample_weight(class_weight = 'balanced', y= y_train)\n",
    "nb.fit(X_train, y_train, sweight)\n"
   ]
  },
  {
   "cell_type": "code",
   "execution_count": 36,
   "id": "modified-hypothesis",
   "metadata": {},
   "outputs": [],
   "source": [
    "y_pred = nb.predict(X_test)\n"
   ]
  },
  {
   "cell_type": "code",
   "execution_count": 37,
   "id": "abandoned-consensus",
   "metadata": {},
   "outputs": [
    {
     "name": "stdout",
     "output_type": "stream",
     "text": [
      "[[106157  44477]\n",
      " [ 10470  30225]]\n",
      "              precision    recall  f1-score   support\n",
      "\n",
      "Not Domestic       0.91      0.70      0.79    150634\n",
      "    Domestic       0.40      0.74      0.52     40695\n",
      "\n",
      "    accuracy                           0.71    191329\n",
      "   macro avg       0.66      0.72      0.66    191329\n",
      "weighted avg       0.80      0.71      0.74    191329\n",
      "\n"
     ]
    }
   ],
   "source": [
    "print(confusion_matrix(y_test, y_pred))\n",
    "print(classification_report(y_test, y_pred, target_names =['Not Domestic', 'Domestic']))\n"
   ]
  },
  {
   "cell_type": "code",
   "execution_count": null,
   "id": "mexican-factor",
   "metadata": {},
   "outputs": [],
   "source": []
  }
 ],
 "metadata": {
  "kernelspec": {
   "display_name": "Python 3",
   "language": "python",
   "name": "python3"
  },
  "language_info": {
   "codemirror_mode": {
    "name": "ipython",
    "version": 3
   },
   "file_extension": ".py",
   "mimetype": "text/x-python",
   "name": "python",
   "nbconvert_exporter": "python",
   "pygments_lexer": "ipython3",
   "version": "3.8.5"
  }
 },
 "nbformat": 4,
 "nbformat_minor": 5
}
