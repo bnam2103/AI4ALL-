{
 "cells": [
  {
   "cell_type": "code",
   "execution_count": 18,
   "id": "solved-cherry",
   "metadata": {},
   "outputs": [
    {
     "name": "stderr",
     "output_type": "stream",
     "text": [
      "[nltk_data] Downloading package stopwords to\n",
      "[nltk_data]     C:\\Users\\nnguyen23\\AppData\\Roaming\\nltk_data...\n",
      "[nltk_data]   Package stopwords is already up-to-date!\n",
      "[nltk_data] Downloading package punkt to\n",
      "[nltk_data]     C:\\Users\\nnguyen23\\AppData\\Roaming\\nltk_data...\n",
      "[nltk_data]   Package punkt is already up-to-date!\n",
      "[nltk_data] Downloading package wordnet to\n",
      "[nltk_data]     C:\\Users\\nnguyen23\\AppData\\Roaming\\nltk_data...\n"
     ]
    }
   ],
   "source": [
    "#Data Analysis\n",
    "import pandas as pd\n",
    "#Data Preprocessing and Feature Engineering\n",
    "import re\n",
    "import nltk\n",
    "from nltk.corpus import stopwords\n",
    "nltk.download('stopwords')\n",
    "nltk.download('punkt')\n",
    "nltk.download('wordnet')\n",
    "from nltk.stem.wordnet import WordNetLemmatizer\n",
    "from sklearn.feature_extraction.text import CountVectorizer\n",
    "#Model Selection and Validation\n",
    "from sklearn.naive_bayes import MultinomialNB\n",
    "from sklearn.model_selection import train_test_split\n",
    "from sklearn.pipeline import Pipeline\n",
    "from sklearn.metrics import confusion_matrix,classification_report,accuracy_score"
   ]
  },
  {
   "cell_type": "code",
   "execution_count": 11,
   "id": "numeric-plumbing",
   "metadata": {},
   "outputs": [
    {
     "name": "stdout",
     "output_type": "stream",
     "text": [
      " â #ireland consumer price index (mom) climbed from previous 0.2% to 0.5% in may   #blog #silver #gold #forex\n"
     ]
    }
   ],
   "source": [
    "twitter = pd.read_csv('tweets.csv')\n",
    "print(twitter['tweet'].iloc[10])"
   ]
  },
  {
   "cell_type": "code",
   "execution_count": 7,
   "id": "southern-wireless",
   "metadata": {},
   "outputs": [
    {
     "name": "stdout",
     "output_type": "stream",
     "text": [
      "0    29720\n",
      "1     2242\n",
      "Name: label, dtype: int64\n"
     ]
    }
   ],
   "source": [
    "print(twitter['label'].value_counts())"
   ]
  },
  {
   "cell_type": "code",
   "execution_count": 14,
   "id": "consistent-serbia",
   "metadata": {},
   "outputs": [],
   "source": [
    "stop_words = set(stopwords.words('english'))\n",
    "filtered_sent = []\n",
    "#twitter['tweet'].apply(lambda y: ''.join(filter(lambda x: x in printable, y)))\n",
    "for index, row in twitter.iterrows():\n",
    "    # Remove punctuation\n",
    "    twitter.at[index, 'tweet'] = re.sub(r\"\\W\", \" \", twitter.at[index, 'tweet'])\n",
    "    # Remove numbers\n",
    "    twitter.at[index, 'tweet'] = re.sub(r\"\\d+\", \"\", twitter.at[index, 'tweet'])\n",
    "    # Remove extra spaces\n",
    "    twitter.at[index, 'tweet'] = re.sub(r\"\\s+\", \" \", twitter.at[index, 'tweet'])\n",
    "    # Make all words lowercase\n",
    "    twitter.at[index, 'tweet'] = str(twitter.at[index, 'tweet']).lower()\n",
    "    # Tokenize the words\n",
    "    twitter.at[index, 'tweet'] = nltk.word_tokenize(twitter.at[index, 'tweet'])\n",
    "    for w in twitter.at[index, 'tweet']:\n",
    "        if w not in stop_words:\n",
    "            filtered_sent.append(w)\n",
    "    twitter.at[index, 'tweet'] = filtered_sent\n",
    "    filtered_sent = []"
   ]
  },
  {
   "cell_type": "code",
   "execution_count": 15,
   "id": "processed-blood",
   "metadata": {},
   "outputs": [
    {
     "name": "stdout",
     "output_type": "stream",
     "text": [
      "['huge', 'fan', 'fare', 'big', 'talking', 'leave', 'chaos', 'pay', 'disputes', 'get', 'allshowandnogo']\n"
     ]
    }
   ],
   "source": [
    "print(twitter['tweet'].iloc[5])"
   ]
  },
  {
   "cell_type": "code",
   "execution_count": 24,
   "id": "physical-windsor",
   "metadata": {},
   "outputs": [
    {
     "name": "stdout",
     "output_type": "stream",
     "text": [
      "   id  label                                              tweet\n",
      "0   1      0  user father dysfunctional selfish drag kid dys...\n",
      "1   2      0  user user thank lyft credit use cause offer wh...\n",
      "2   3      0                                     bihday majesty\n",
      "3   4      0         model love u take u time urð ð ð ð ð ð ð ð\n",
      "4   5      0                      factsguide society motivation\n"
     ]
    }
   ],
   "source": [
    "print(twitter.head())"
   ]
  },
  {
   "cell_type": "code",
   "execution_count": 19,
   "id": "static-guide",
   "metadata": {},
   "outputs": [],
   "source": [
    "lemmatizer = WordNetLemmatizer()\n",
    "for index, row in twitter.iterrows():\n",
    "    newWords = []\n",
    "    for word in twitter.at[index, 'tweet']:\n",
    "        #print(word)\n",
    "        newWords.append(lemmatizer.lemmatize(word, pos=\"v\"))\n",
    "        #newWords.append(word)\n",
    "    twitter.at[index, 'tweet'] = \" \".join(newWords)"
   ]
  },
  {
   "cell_type": "code",
   "execution_count": 20,
   "id": "ceramic-trout",
   "metadata": {},
   "outputs": [
    {
     "name": "stdout",
     "output_type": "stream",
     "text": [
      "<class 'list'>\n",
      "['user user thank lyft credit use cause offer wheelchair vans pdx disapointed getthanked', 'bihday majesty', 'model love u take u time urð ð ð ð ð ð ð ð', 'factsguide society motivation', 'huge fan fare big talk leave chaos pay dispute get allshowandnogo', 'user camp tomorrow user user user user user user user dannyâ', 'next school year year exams ð think ð school exams hate imagine actorslife revolutionschool girl', 'love land allin cavs champion cleveland clevelandcavaliers â', 'user user welcome gr']\n"
     ]
    }
   ],
   "source": [
    "print(type(list(twitter['tweet'])))\n",
    "listt = list(twitter['tweet'])\n",
    "print(listt[1:10])"
   ]
  },
  {
   "cell_type": "code",
   "execution_count": 22,
   "id": "welsh-teaching",
   "metadata": {},
   "outputs": [
    {
     "name": "stdout",
     "output_type": "stream",
     "text": [
      "   affirmation  altwaystoheal  always  amaze  amp  angry  another  around  \\\n",
      "0            0              0       0      0    0      0        0       0   \n",
      "1            0              0       0      0    0      0        0       0   \n",
      "2            0              0       0      0    0      0        0       0   \n",
      "3            0              0       0      0    0      0        0       0   \n",
      "4            0              0       0      0    0      0        0       0   \n",
      "\n",
      "   attack  awesome  ...  wish  word  work  world  would  year  years  yes  ó¾  \\\n",
      "0       0        0  ...     0     0     0      0      0     0      0    0   0   \n",
      "1       0        0  ...     0     0     0      0      0     0      0    0   0   \n",
      "2       0        0  ...     0     0     0      0      0     0      0    0   0   \n",
      "3       0        0  ...     0     0     0      0      0     0      0    0   0   \n",
      "4       0        0  ...     0     0     0      0      0     0      0    0   0   \n",
      "\n",
      "   label  \n",
      "0      0  \n",
      "1      0  \n",
      "2      0  \n",
      "3      0  \n",
      "4      0  \n",
      "\n",
      "[5 rows x 201 columns]\n"
     ]
    }
   ],
   "source": [
    "#bag_of_words = CountVectorizer(tokenizer=lambda doc: doc, lowercase=False).\n",
    "#↪→fit_transform(listt)\n",
    "cv = CountVectorizer(max_features=200, lowercase=False)\n",
    "X = cv.fit_transform(twitter['tweet']).toarray()\n",
    "y = twitter['label'].values\n",
    "header = cv.get_feature_names()\n",
    "output = pd.DataFrame(X, columns=header)\n",
    "output['label'] = twitter['label']\n",
    "print(output.head())"
   ]
  },
  {
   "cell_type": "code",
   "execution_count": 23,
   "id": "developing-lambda",
   "metadata": {},
   "outputs": [],
   "source": [
    "output.to_csv(\"Twitter_spmatrix.csv\", index=False)"
   ]
  },
  {
   "cell_type": "code",
   "execution_count": null,
   "id": "figured-identification",
   "metadata": {},
   "outputs": [],
   "source": []
  }
 ],
 "metadata": {
  "kernelspec": {
   "display_name": "Python 3",
   "language": "python",
   "name": "python3"
  },
  "language_info": {
   "codemirror_mode": {
    "name": "ipython",
    "version": 3
   },
   "file_extension": ".py",
   "mimetype": "text/x-python",
   "name": "python",
   "nbconvert_exporter": "python",
   "pygments_lexer": "ipython3",
   "version": "3.8.5"
  }
 },
 "nbformat": 4,
 "nbformat_minor": 5
}
