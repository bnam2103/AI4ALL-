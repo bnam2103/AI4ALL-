{
 "cells": [
  {
   "cell_type": "code",
   "execution_count": 1,
   "id": "encouraging-median",
   "metadata": {},
   "outputs": [],
   "source": [
    "# Pandas\n",
    "import pandas as pd\n",
    "\n",
    "# Classifiers\n",
    "from sklearn.cluster import KMeans\n",
    "from sklearn import metrics\n",
    "\n",
    "# Feature selection\n",
    "from sklearn.feature_selection import SelectKBest, chi2\n",
    "\n",
    "# Encoders and model evaluation\n",
    "from sklearn.preprocessing import OrdinalEncoder, LabelEncoder\n",
    "import matplotlib.pyplot as plt"
   ]
  },
  {
   "cell_type": "code",
   "execution_count": 2,
   "id": "prerequisite-chuck",
   "metadata": {},
   "outputs": [],
   "source": [
    "crimes = pd.read_csv(\"ChicagoCrimes4500Bal.csv\")"
   ]
  },
  {
   "cell_type": "code",
   "execution_count": 3,
   "id": "sudden-skirt",
   "metadata": {},
   "outputs": [
    {
     "data": {
      "text/plain": [
       "False    2250\n",
       "True     2250\n",
       "Name: Domestic, dtype: int64"
      ]
     },
     "execution_count": 3,
     "metadata": {},
     "output_type": "execute_result"
    }
   ],
   "source": [
    "#Determine Class balance\n",
    "crimes['Domestic'].value_counts()"
   ]
  },
  {
   "cell_type": "code",
   "execution_count": 5,
   "id": "reserved-planet",
   "metadata": {},
   "outputs": [],
   "source": [
    "crimes = crimes.dropna()"
   ]
  },
  {
   "cell_type": "code",
   "execution_count": 6,
   "id": "configured-spray",
   "metadata": {},
   "outputs": [
    {
     "name": "stdout",
     "output_type": "stream",
     "text": [
      "RESIDENCE                             1040\n",
      "APARTMENT                              919\n",
      "STREET                                 840\n",
      "SIDEWALK                               366\n",
      "OTHER                                  137\n",
      "                                      ... \n",
      "VEHICLE-COMMERCIAL                       1\n",
      "AIRPORT EXTERIOR - NON-SECURE AREA       1\n",
      "OTHER RAILROAD PROP / TRAIN DEPOT        1\n",
      "AUTO                                     1\n",
      "CREDIT UNION                             1\n",
      "Name: Location Description, Length: 79, dtype: int64\n",
      "08B    1383\n",
      "6       651\n",
      "26      463\n",
      "14      461\n",
      "18      264\n",
      "08A     254\n",
      "04B     161\n",
      "11      159\n",
      "04A     137\n",
      "3       111\n",
      "7       106\n",
      "5        94\n",
      "20       79\n",
      "2        38\n",
      "15       33\n",
      "10       25\n",
      "24       23\n",
      "17       19\n",
      "01A       9\n",
      "16        7\n",
      "9         5\n",
      "22        2\n",
      "19        1\n",
      "13        1\n",
      "Name: FBI Code, dtype: int64\n",
      "BATTERY                             1544\n",
      "THEFT                                651\n",
      "CRIMINAL DAMAGE                      461\n",
      "ASSAULT                              387\n",
      "OTHER OFFENSE                        361\n",
      "NARCOTICS                            264\n",
      "DECEPTIVE PRACTICE                   185\n",
      "ROBBERY                              111\n",
      "MOTOR VEHICLE THEFT                  106\n",
      "BURGLARY                              94\n",
      "CRIMINAL TRESPASS                     91\n",
      "OFFENSE INVOLVING CHILDREN            83\n",
      "WEAPONS VIOLATION                     33\n",
      "CRIM SEXUAL ASSAULT                   31\n",
      "PUBLIC PEACE VIOLATION                20\n",
      "SEX OFFENSE                           18\n",
      "KIDNAPPING                            10\n",
      "HOMICIDE                               9\n",
      "PROSTITUTION                           7\n",
      "INTERFERENCE WITH PUBLIC OFFICER       6\n",
      "ARSON                                  5\n",
      "STALKING                               4\n",
      "LIQUOR LAW VIOLATION                   2\n",
      "OBSCENITY                              1\n",
      "GAMBLING                               1\n",
      "INTIMIDATION                           1\n",
      "Name: Primary Type, dtype: int64\n"
     ]
    }
   ],
   "source": [
    "print(crimes['Location Description'].value_counts())\n",
    "print(crimes['FBI Code'].value_counts())\n",
    "print(crimes['Primary Type'].value_counts())"
   ]
  },
  {
   "cell_type": "code",
   "execution_count": 7,
   "id": "weekly-victorian",
   "metadata": {},
   "outputs": [
    {
     "name": "stdout",
     "output_type": "stream",
     "text": [
      "             Primary Type          Description  \\\n",
      "0  PUBLIC PEACE VIOLATION     RECKLESS CONDUCT   \n",
      "1                 BATTERY               SIMPLE   \n",
      "2                 BATTERY  AGGRAVATED: HANDGUN   \n",
      "3                 BATTERY               SIMPLE   \n",
      "4                 BATTERY               SIMPLE   \n",
      "\n",
      "             Location Description  Arrest  Domestic  Beat  District  Ward  \\\n",
      "0                          STREET   False     False  1524        15    37   \n",
      "1                        SIDEWALK   False     False  1532        15    28   \n",
      "2                          STREET   False     False   631         6     8   \n",
      "3  CHA HALLWAY/STAIRWELL/ELEVATOR   False     False   133         1     3   \n",
      "4         RESIDENCE PORCH/HALLWAY   False     False   215         2     3   \n",
      "\n",
      "   Community Area FBI Code  \n",
      "0              25       24  \n",
      "1              25      08B  \n",
      "2              44      04B  \n",
      "3              35      08B  \n",
      "4              38      08B  \n"
     ]
    }
   ],
   "source": [
    "X = crimes.copy()\n",
    "y = crimes['Domestic']\n",
    "print(X.head())"
   ]
  },
  {
   "cell_type": "code",
   "execution_count": 8,
   "id": "noted-bottom",
   "metadata": {},
   "outputs": [],
   "source": [
    "# encode data \n",
    "oe = OrdinalEncoder()\n",
    "oe.fit(X)\n",
    "X_enc = oe.transform(X)\n",
    "\n",
    "le = LabelEncoder()\n",
    "le.fit(y)\n",
    "y_enc = le.transform(y)"
   ]
  },
  {
   "cell_type": "code",
   "execution_count": 10,
   "id": "practical-native",
   "metadata": {},
   "outputs": [
    {
     "name": "stdout",
     "output_type": "stream",
     "text": [
      "[0 9]\n",
      "                Primary Type FBI Code\n",
      "0     PUBLIC PEACE VIOLATION       24\n",
      "1                    BATTERY      08B\n",
      "2                    BATTERY      04B\n",
      "3                    BATTERY      08B\n",
      "4                    BATTERY      08B\n",
      "...                      ...      ...\n",
      "4495                 BATTERY      08B\n",
      "4496         CRIMINAL DAMAGE       14\n",
      "4497                 BATTERY      04B\n",
      "4498                 ASSAULT      08A\n",
      "4499                 ASSAULT      08A\n",
      "\n",
      "[4486 rows x 2 columns]\n"
     ]
    }
   ],
   "source": [
    "# Feature selection\n",
    "selector = SelectKBest(chi2, k=2)\n",
    "newX = selector.fit_transform(X_enc, y_enc)\n",
    "cols = selector.get_support(indices = True)\n",
    "print(cols)\n",
    "print(X.iloc[:, cols])"
   ]
  },
  {
   "cell_type": "code",
   "execution_count": 15,
   "id": "wound-syria",
   "metadata": {},
   "outputs": [
    {
     "data": {
      "image/png": "[encoded data removed]",
      "text/plain": [
       "<Figure size 432x288 with 1 Axes>"
      ]
     },
     "metadata": {
      "needs_background": "light"
     },
     "output_type": "display_data"
    }
   ],
   "source": [
    "# Elbow method\n",
    "Error = []\n",
    "for i in range(1,11):\n",
    "    kmeans = KMeans(n_clusters =i).fit(newX)\n",
    "    Error.append(kmeans.inertia_)\n",
    "    \n",
    "plt.plot(range(1,11), Error)\n",
    "plt.title('Elbow Method')\n",
    "plt.xlabel('No of clusters')\n",
    "plt.ylabel('Error')\n",
    "plt.show()"
   ]
  },
  {
   "cell_type": "code",
   "execution_count": 16,
   "id": "elder-behalf",
   "metadata": {},
   "outputs": [
    {
     "name": "stdout",
     "output_type": "stream",
     "text": [
      "[1 0 0 ... 0 0 0]\n"
     ]
    }
   ],
   "source": [
    "kmeans2 = KMeans(n_clusters=2)\n",
    "y_kmeans2 = kmeans2.fit_predict(newX)\n",
    "print(y_kmeans2)"
   ]
  },
  {
   "cell_type": "code",
   "execution_count": 17,
   "id": "approximate-division",
   "metadata": {},
   "outputs": [
    {
     "data": {
      "text/plain": [
       "array([[ 2.89031339,  5.55377493],\n",
       "       [19.89690107, 18.03933254]])"
      ]
     },
     "execution_count": 17,
     "metadata": {},
     "output_type": "execute_result"
    }
   ],
   "source": [
    "kmeans2.cluster_centers_"
   ]
  },
  {
   "cell_type": "code",
   "execution_count": 19,
   "id": "improving-david",
   "metadata": {},
   "outputs": [
    {
     "name": "stdout",
     "output_type": "stream",
     "text": [
      "0.5663690218612863\n"
     ]
    }
   ],
   "source": [
    "print(metrics.fowlkes_mallows_score(y_enc, y_kmeans2))"
   ]
  },
  {
   "cell_type": "code",
   "execution_count": 20,
   "id": "adequate-monthly",
   "metadata": {},
   "outputs": [
    {
     "name": "stdout",
     "output_type": "stream",
     "text": [
      "[1 0 0 ... 0 0 0]\n",
      "0.7443170167815646\n"
     ]
    }
   ],
   "source": [
    "labels = kmeans2.labels_\n",
    "print(labels)\n",
    "print(metrics.silhouette_score(newX,labels, metric = 'euclidean'))"
   ]
  },
  {
   "cell_type": "code",
   "execution_count": 22,
   "id": "promotional-serbia",
   "metadata": {},
   "outputs": [
    {
     "data": {
      "text/plain": [
       "<matplotlib.collections.PathCollection at 0x1ed000032e0>"
      ]
     },
     "execution_count": 22,
     "metadata": {},
     "output_type": "execute_result"
    },
    {
     "data": {
      "image/png": "[encoded data removed]",
      "text/plain": [
       "<Figure size 432x288 with 1 Axes>"
      ]
     },
     "metadata": {
      "needs_background": "light"
     },
     "output_type": "display_data"
    }
   ],
   "source": [
    "plt.scatter(newX[:,0], newX[:,1], c= y_kmeans2, cmap='rainbow')"
   ]
  },
  {
   "cell_type": "code",
   "execution_count": null,
   "id": "romantic-generic",
   "metadata": {},
   "outputs": [],
   "source": []
  }
 ],
 "metadata": {
  "kernelspec": {
   "display_name": "Python 3",
   "language": "python",
   "name": "python3"
  },
  "language_info": {
   "codemirror_mode": {
    "name": "ipython",
    "version": 3
   },
   "file_extension": ".py",
   "mimetype": "text/x-python",
   "name": "python",
   "nbconvert_exporter": "python",
   "pygments_lexer": "ipython3",
   "version": "3.8.5"
  }
 },
 "nbformat": 4,
 "nbformat_minor": 5
}
