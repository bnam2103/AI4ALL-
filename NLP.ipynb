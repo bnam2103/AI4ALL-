{
 "cells": [
  {
   "cell_type": "code",
   "execution_count": 1,
   "id": "religious-breath",
   "metadata": {},
   "outputs": [],
   "source": [
    "#Data Analysis\n",
    "import pandas as pd\n",
    "\n",
    "#Data Preprocessing and Feature Engineering\n",
    "import re\n",
    "import nltk\n",
    "from nltk.corpus import stopwords\n",
    "ntlk.download('stopwords')\n",
    "ntlk.download('punkt')\n",
    "from nltk.stem.wordnet import WordNetLemmatizer\n",
    "from sklearn.feature_extraction.text import CountVectorizer\n",
    "\n",
    "#Model Selection and Validation\n",
    "from sklearn.naive_bayes import MultinomialNB\n",
    "from sklearn.model_selection import train_test_split\n",
    "from sklearn.pipeline import Pipeline\n",
    "from sklearn.metrics import confusion_matrix, classification_report,accuracy_score\n",
    "\n",
    " "
   ]
  },
  {
   "cell_type": "code",
   "execution_count": 4,
   "id": "roman-exclusive",
   "metadata": {},
   "outputs": [],
   "source": [
    "movies = pd.read_csv('IMDB_Movies.csv')\n",
    "\n",
    "\n",
    "print(movies['text'].iloc[10])"
   ]
  },
  {
   "cell_type": "code",
   "execution_count": null,
   "id": "accessory-alias",
   "metadata": {},
   "outputs": [],
   "source": [
    "print(movies['label'].value_counts)"
   ]
  },
  {
   "cell_type": "code",
   "execution_count": null,
   "id": "internal-contamination",
   "metadata": {},
   "outputs": [],
   "source": [
    "stop_words = set(stopwords.word('english'))\n",
    "filtered_sent = []\n",
    "\n",
    "for index, row in movies.iterrows():\n",
    "    movies.at[index,'text'] = re.sub(r\"\\W\", \" \", movies.at[index, 'text'])\n",
    "    \n",
    "    movies.at[index,'text'] = re.sub(r\"\\d+\", \" \", movies.at[index, 'text']) \n",
    "    \n",
    "    movies.at[index,'text'] = re.sub(r\"\\s+\", \" \", movies.at[index, 'text'])\n",
    "\n",
    "    movies.at[index,'text'] = str(movies.at[index, 'text']).lower()\n",
    "    \n",
    "    movies.at[index,'text'] = nltk.word_tokenize(movies.at[index, 'text'])\n",
    "    \n",
    "    for w in movies.at[index,'text']:\n",
    "        if w not in stop_words:\n",
    "            filtered_sent.append(w)\n",
    "    movies.at[index, 'text'] =filtered_sent\n",
    "    filtered_sent =[]"
   ]
  },
  {
   "cell_type": "code",
   "execution_count": null,
   "id": "impaired-engineering",
   "metadata": {},
   "outputs": [],
   "source": [
    "print(movies['text'].iloc[5])"
   ]
  },
  {
   "cell_type": "code",
   "execution_count": null,
   "id": "potential-cleveland",
   "metadata": {},
   "outputs": [],
   "source": [
    "lemmatizer = WordNetLemmatizer()\n",
    "\n",
    "for index, row in movies.iterrows():\n",
    "    newWords = []\n",
    "    \n",
    "    for word in movies.at[index, 'text']:\n",
    "        newwords.append(lemmatizer.lemmatize(word, pos ='v'))\n",
    "    movies.at[index, 'text'] = \" \".join(newWords)"
   ]
  },
  {
   "cell_type": "code",
   "execution_count": null,
   "id": "tracked-helen",
   "metadata": {},
   "outputs": [],
   "source": [
    "listt = list(movies['text'])\n",
    "print(listt[1:10])"
   ]
  },
  {
   "cell_type": "code",
   "execution_count": null,
   "id": "vanilla-panic",
   "metadata": {},
   "outputs": [],
   "source": [
    "cv = CountVectorizer(max_features = 200, lowercase = False)\n",
    "\n",
    "x = cv.fit_transform(movies['text']).toarray()\n",
    "y = movies['label'].values\n",
    "\n",
    "header = cv.get_feature_names()\n",
    "output = pd.DataFrame (X, columns = header)\n",
    "output['label'] = movies['label']\n",
    "print(output.head())"
   ]
  },
  {
   "cell_type": "code",
   "execution_count": null,
   "id": "adaptive-therapy",
   "metadata": {},
   "outputs": [],
   "source": [
    "output.to_csv(\"IMDBspmatrix.csv\"), index=False)\n"
   ]
  }
 ],
 "metadata": {
  "kernelspec": {
   "display_name": "Python 3",
   "language": "python",
   "name": "python3"
  },
  "language_info": {
   "codemirror_mode": {
    "name": "ipython",
    "version": 3
   },
   "file_extension": ".py",
   "mimetype": "text/x-python",
   "name": "python",
   "nbconvert_exporter": "python",
   "pygments_lexer": "ipython3",
   "version": "3.8.5"
  }
 },
 "nbformat": 4,
 "nbformat_minor": 5
}
