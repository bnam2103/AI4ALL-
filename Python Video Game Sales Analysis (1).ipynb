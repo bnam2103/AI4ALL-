{
 "cells": [
  {
   "cell_type": "code",
   "execution_count": 11,
   "id": "antique-formation",
   "metadata": {},
   "outputs": [
    {
     "name": "stdout",
     "output_type": "stream",
     "text": [
      "Jia Hai\n",
      "Andy Wang\n",
      "Zack Sima\n",
      "Charlie Chen\n",
      "Leo Xie\n",
      "['Kiet']\n"
     ]
    }
   ],
   "source": [
    "#Create a list of the names of your closest friends.\n",
    "list_friends = ['Jia Hai','Andy Wang','Zack Sima','Charlie Chen', 'Leo Xie']\n",
    "\n",
    "# Loop through your friends list using a For loop and print each name.\n",
    "for i in list_friends:\n",
    "    print(i)\n",
    "\n",
    "#Create a dictionary of the names of your family members as keys and their ages as the values.\n",
    "list_family = {'Nam':18,'Thao':22, 'Le': 43,'Thuan':45, 'Kiet':8}\n",
    "\n",
    "#Loop through your family dictionary using a For loop and print the name of the person if they are under 18 years old.\n",
    "name_under18 = []\n",
    "for name,age in list_family.items():\n",
    "    if age < 18:\n",
    "        name_under18.append(name)\n",
    "print(name_under18)"
   ]
  },
  {
   "cell_type": "code",
   "execution_count": 12,
   "id": "banned-pillow",
   "metadata": {},
   "outputs": [],
   "source": [
    "import pandas as pd"
   ]
  },
  {
   "cell_type": "code",
   "execution_count": 13,
   "id": "micro-hobby",
   "metadata": {},
   "outputs": [],
   "source": [
    "#Read in the vgsales.csv file and save it into a DataFrame named vgsales\n",
    "vgsales = pd.read_csv('vgsales.csv')"
   ]
  },
  {
   "cell_type": "code",
   "execution_count": 14,
   "id": "thermal-blink",
   "metadata": {},
   "outputs": [
    {
     "name": "stdout",
     "output_type": "stream",
     "text": [
      "   Rank                      Name Platform    Year         Genre Publisher  \\\n",
      "0     1                Wii Sports      Wii  2006.0        Sports  Nintendo   \n",
      "1     2         Super Mario Bros.      NES  1985.0      Platform  Nintendo   \n",
      "2     3            Mario Kart Wii      Wii  2008.0        Racing  Nintendo   \n",
      "3     4         Wii Sports Resort      Wii  2009.0        Sports  Nintendo   \n",
      "4     5  Pokemon Red/Pokemon Blue       GB  1996.0  Role-Playing  Nintendo   \n",
      "\n",
      "   NA_Sales  EU_Sales  JP_Sales  Other_Sales  \n",
      "0     41.49     29.02      3.77         8.46  \n",
      "1     29.08      3.58      6.81         0.77  \n",
      "2     15.85     12.88      3.79         3.31  \n",
      "3     15.75     11.01      3.28         2.96  \n",
      "4     11.27      8.89     10.22         1.00  \n",
      "        Rank                                              Name Platform  \\\n",
      "16593  16596                Woody Woodpecker in Crazy Castle 5      GBA   \n",
      "16594  16597                     Men in Black II: Alien Escape       GC   \n",
      "16595  16598  SCORE International Baja 1000: The Official Game      PS2   \n",
      "16596  16599                                        Know How 2       DS   \n",
      "16597  16600                                  Spirits & Spells      GBA   \n",
      "\n",
      "         Year     Genre   Publisher  NA_Sales  EU_Sales  JP_Sales  Other_Sales  \n",
      "16593  2002.0  Platform       Kemco      0.01      0.00       0.0          0.0  \n",
      "16594  2003.0   Shooter  Infogrames      0.01      0.00       0.0          0.0  \n",
      "16595  2008.0    Racing  Activision      0.00      0.00       0.0          0.0  \n",
      "16596  2010.0    Puzzle    7G//AMES      0.00      0.01       0.0          0.0  \n",
      "16597  2003.0  Platform     Wanadoo      0.01      0.00       0.0          0.0  \n"
     ]
    }
   ],
   "source": [
    "#Print the head and the tail of vgsales DataFrame\n",
    "print(vgsales.head())\n",
    "print(vgsales.tail())"
   ]
  },
  {
   "cell_type": "code",
   "execution_count": 15,
   "id": "cooperative-longitude",
   "metadata": {},
   "outputs": [
    {
     "name": "stdout",
     "output_type": "stream",
     "text": [
      "4392.950000000001\n"
     ]
    }
   ],
   "source": [
    "# What is the total sales in NA for all video games?\n",
    "naTotal = vgsales['NA_Sales'].sum()\n",
    "print(naTotal)"
   ]
  },
  {
   "cell_type": "code",
   "execution_count": 16,
   "id": "modular-period",
   "metadata": {},
   "outputs": [
    {
     "name": "stdout",
     "output_type": "stream",
     "text": [
      "NA_Sales       4392.95\n",
      "EU_Sales       2434.13\n",
      "JP_Sales       1291.02\n",
      "Other_Sales     797.75\n",
      "dtype: float64\n"
     ]
    }
   ],
   "source": [
    "#What is the total for all sales in each region?\n",
    "each_region = ['NA_Sales','EU_Sales','JP_Sales','Other_Sales']\n",
    "allTotals = vgsales[each_region].sum()\n",
    "print(allTotals)"
   ]
  },
  {
   "cell_type": "code",
   "execution_count": 17,
   "id": "distant-amendment",
   "metadata": {},
   "outputs": [
    {
     "name": "stdout",
     "output_type": "stream",
     "text": [
      "2    35.83\n",
      "dtype: float64\n"
     ]
    }
   ],
   "source": [
    "#What is the total sales for Mario Kart Wii?\n",
    "mkTotal = vgsales.loc[2: 2,['NA_Sales','EU_Sales','JP_Sales','Other_Sales']].sum(axis=1)\n",
    "print(mkTotal)"
   ]
  },
  {
   "cell_type": "code",
   "execution_count": 18,
   "id": "constitutional-litigation",
   "metadata": {},
   "outputs": [
    {
     "name": "stdout",
     "output_type": "stream",
     "text": [
      "   Rank                      Name Platform    Year         Genre Publisher  \\\n",
      "0     1                Wii Sports      Wii  2006.0        Sports  Nintendo   \n",
      "1     2         Super Mario Bros.      NES  1985.0      Platform  Nintendo   \n",
      "2     3            Mario Kart Wii      Wii  2008.0        Racing  Nintendo   \n",
      "3     4         Wii Sports Resort      Wii  2009.0        Sports  Nintendo   \n",
      "4     5  Pokemon Red/Pokemon Blue       GB  1996.0  Role-Playing  Nintendo   \n",
      "\n",
      "   NA_Sales  EU_Sales  JP_Sales  Other_Sales  Total  \n",
      "0     41.49     29.02      3.77         8.46  82.74  \n",
      "1     29.08      3.58      6.81         0.77  40.24  \n",
      "2     15.85     12.88      3.79         3.31  35.83  \n",
      "3     15.75     11.01      3.28         2.96  33.00  \n",
      "4     11.27      8.89     10.22         1.00  31.38  \n"
     ]
    }
   ],
   "source": [
    "#What is the total of all sales for all games (all regions)? \n",
    "vgsales ['Total'] = vgsales.loc[0:,['NA_Sales','EU_Sales','JP_Sales','Other_Sales']].sum(axis=1)\n",
    "print(vgsales.head())"
   ]
  },
  {
   "cell_type": "code",
   "execution_count": 23,
   "id": "christian-breathing",
   "metadata": {},
   "outputs": [
    {
     "name": "stdout",
     "output_type": "stream",
     "text": [
      "   Rank                      Name Platform    Year         Genre Publisher  \\\n",
      "0     1                Wii Sports      Wii  2006.0        Sports  Nintendo   \n",
      "1     2         Super Mario Bros.      NES  1985.0      Platform  Nintendo   \n",
      "2     3            Mario Kart Wii      Wii  2008.0        Racing  Nintendo   \n",
      "3     4         Wii Sports Resort      Wii  2009.0        Sports  Nintendo   \n",
      "4     5  Pokemon Red/Pokemon Blue       GB  1996.0  Role-Playing  Nintendo   \n",
      "\n",
      "   NA_Sales  EU_Sales  JP_Sales  Other_Sales  Total     Mean  Median  \\\n",
      "0     41.49     29.02      3.77         8.46  82.74  20.6850  18.740   \n",
      "1     29.08      3.58      6.81         0.77  40.24  10.0600   5.195   \n",
      "2     15.85     12.88      3.79         3.31  35.83   8.9575   8.335   \n",
      "3     15.75     11.01      3.28         2.96  33.00   8.2500   7.145   \n",
      "4     11.27      8.89     10.22         1.00  31.38   7.8450   9.555   \n",
      "\n",
      "       StDev  \n",
      "0  17.681328  \n",
      "1  12.917913  \n",
      "2   6.363696  \n",
      "3   6.233046  \n",
      "4   4.666094  \n"
     ]
    }
   ],
   "source": [
    "#What is the mean, median and standard deviation for all sales across all regions?\n",
    "vgsales ['Mean'] = vgsales.loc[0:,['NA_Sales','EU_Sales','JP_Sales','Other_Sales']].mean(axis=1)\n",
    "vgsales ['Median'] = vgsales.loc[0:,['NA_Sales','EU_Sales','JP_Sales','Other_Sales']].median(axis=1)\n",
    "vgsales ['StDev'] = vgsales.loc[0:,['NA_Sales','EU_Sales','JP_Sales','Other_Sales']].std(axis=1)\n",
    "print(vgsales.head())"
   ]
  },
  {
   "cell_type": "code",
   "execution_count": 20,
   "id": "seasonal-diving",
   "metadata": {},
   "outputs": [
    {
     "name": "stdout",
     "output_type": "stream",
     "text": [
      "Electronic Arts                 1351\n",
      "Activision                       975\n",
      "Namco Bandai Games               932\n",
      "Ubisoft                          921\n",
      "Konami Digital Entertainment     832\n",
      "                                ... \n",
      "Just Flight                        1\n",
      "Legacy Interactive                 1\n",
      "Bohemia Interactive                1\n",
      "Giga                               1\n",
      "UIG Entertainment                  1\n",
      "Name: Publisher, Length: 578, dtype: int64\n"
     ]
    }
   ],
   "source": [
    "#What publisher had the most video games on the list?\n",
    "print(vgsales['Publisher'].value_counts())"
   ]
  },
  {
   "cell_type": "code",
   "execution_count": 21,
   "id": "portuguese-halloween",
   "metadata": {},
   "outputs": [
    {
     "name": "stdout",
     "output_type": "stream",
     "text": [
      "Publisher\n",
      "Nintendo                       1786.36\n",
      "Electronic Arts                1110.15\n",
      "Activision                      727.11\n",
      "Sony Computer Entertainment     607.49\n",
      "Ubisoft                         474.51\n",
      "                                ...   \n",
      "EON Digital Entertainment         0.01\n",
      "Michaelsoft                       0.01\n",
      "Masque Publishing                 0.01\n",
      "Ascaron Entertainment             0.01\n",
      "Paradox Development               0.01\n",
      "Name: Total, Length: 578, dtype: float64\n"
     ]
    }
   ],
   "source": [
    "#Which publisher had the most sales?\n",
    "Most_sales = vgsales.groupby('Publisher').Total.sum()\n",
    "Most_sales.sort_values(ascending = False, inplace = True)\n",
    "print(Most_sales)"
   ]
  },
  {
   "cell_type": "code",
   "execution_count": null,
   "id": "massive-baltimore",
   "metadata": {},
   "outputs": [],
   "source": []
  }
 ],
 "metadata": {
  "kernelspec": {
   "display_name": "Python 3",
   "language": "python",
   "name": "python3"
  },
  "language_info": {
   "codemirror_mode": {
    "name": "ipython",
    "version": 3
   },
   "file_extension": ".py",
   "mimetype": "text/x-python",
   "name": "python",
   "nbconvert_exporter": "python",
   "pygments_lexer": "ipython3",
   "version": "3.8.5"
  }
 },
 "nbformat": 4,
 "nbformat_minor": 5
}
